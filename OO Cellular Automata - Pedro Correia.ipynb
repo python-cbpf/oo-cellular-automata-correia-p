{
 "cells": [
  {
   "cell_type": "markdown",
   "metadata": {},
   "source": [
    "# OO Cellular Automata - v1\n",
    "by Pedro Silva Correia"
   ]
  },
  {
   "cell_type": "code",
   "execution_count": 4,
   "metadata": {},
   "outputs": [],
   "source": [
    "import numpy\n",
    "import matplotlib.pyplot as plt"
   ]
  },
  {
   "cell_type": "code",
   "execution_count": 5,
   "metadata": {},
   "outputs": [],
   "source": [
    "class Cellular_automata():\n",
    "    \n",
    "    \"\"\"Cellular automata object\"\"\"\n",
    "    \n",
    "    def __init__(self, rule=None, generations=None, grid=None):\n",
    "        print('1-D cellular automata - v1\\n')\n",
    "        print('--------------------------------------------------\\n') \n",
    "        self.get_rule()\n",
    "        self.get_generations()\n",
    "        self.computing()\n",
    "        self.display()\n",
    "    \n",
    "    def get_rule(self):\n",
    "        rule = int(input('Choose the rule you want to apply (an integer from 0 to 255): '))\n",
    "        self.rule =rule\n",
    "        \n",
    "    def get_generations(self):\n",
    "        generations = int(input('How many generations do you want to observe: '))\n",
    "        self.generations = generations\n",
    "    \n",
    "    def computing(self):\n",
    "        binary_rule = [int(x) for x in numpy.binary_repr(self.rule, width=8)]\n",
    "        \n",
    "        pattern = numpy.zeros([8,3])\n",
    "        for i in range(8):\n",
    "            pattern[i,:]=[int(x) for x in numpy.binary_repr(7-i, width=3)]\n",
    "        \n",
    "        rows = self.generations\n",
    "        columns = 2*(self.generations-1)\n",
    "        \n",
    "        self.grid = numpy.zeros([rows, columns+2])\n",
    "        self.grid[0, int(columns/2)+1] =1\n",
    "        \n",
    "        for i in numpy.arange(0, rows-1):\n",
    "            for j in numpy.arange(0, columns):\n",
    "                for k in range(8):\n",
    "                    if numpy.array_equal(pattern[k, :], self.grid[i, j:j+3]):\n",
    "                        self.grid[i+1, j+1] = binary_rule[k]\n",
    "                        \n",
    "    def display(self):\n",
    "        columns = 2*(self.generations-1)\n",
    "        plt.imshow(self.grid[:, 1:columns+1], cmap='Greys')\n",
    "        plt.title(\"Elementary Cellular Automata Rule {}\".format(self.rule))\n",
    "        plt.show()"
   ]
  },
  {
   "cell_type": "code",
   "execution_count": 6,
   "metadata": {},
   "outputs": [
    {
     "name": "stdout",
     "output_type": "stream",
     "text": [
      "1-D cellular automata - v1\n",
      "\n",
      "--------------------------------------------------\n",
      "\n",
      "Choose the rule you want to apply (an integer from 0 to 255): 90\n",
      "How many generations do you want to observe: 90\n"
     ]
    },
    {
     "data": {
      "image/png": "[encoded data removed]",
      "text/plain": [
       "<Figure size 432x288 with 1 Axes>"
      ]
     },
     "metadata": {
      "needs_background": "light"
     },
     "output_type": "display_data"
    }
   ],
   "source": [
    "ca = Cellular_automata()"
   ]
  },
  {
   "cell_type": "code",
   "execution_count": null,
   "metadata": {},
   "outputs": [],
   "source": []
  }
 ],
 "metadata": {
  "kernelspec": {
   "display_name": "Python 3",
   "language": "python",
   "name": "python3"
  },
  "language_info": {
   "codemirror_mode": {
    "name": "ipython",
    "version": 3
   },
   "file_extension": ".py",
   "mimetype": "text/x-python",
   "name": "python",
   "nbconvert_exporter": "python",
   "pygments_lexer": "ipython3",
   "version": "3.7.3"
  }
 },
 "nbformat": 4,
 "nbformat_minor": 2
}
